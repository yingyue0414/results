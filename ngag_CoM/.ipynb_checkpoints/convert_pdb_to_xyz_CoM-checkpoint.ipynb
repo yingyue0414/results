{
 "cells": [
  {
   "cell_type": "code",
   "execution_count": 18,
   "id": "96195a9c",
   "metadata": {},
   "outputs": [],
   "source": [
    "\"\"\"\n",
    "python 3.10\n",
    "This converts ALL .pdb file in the directory for gag \n",
    "lattices output from NERDSS to a .csv of all centers of\n",
    "mass (CoMs) of gag.\n",
    "\"\"\"\n",
    "import pandas as pd\n",
    "import numpy as np\n",
    "import matplotlib.pyplot as plt\n",
    "import os"
   ]
  },
  {
   "cell_type": "code",
   "execution_count": 2,
   "id": "5a683bf5",
   "metadata": {},
   "outputs": [],
   "source": [
    "def read_pdb(filename):\n",
    "    \"\"\"\n",
    "    read .pdb file for gag lattices and return dataframe\n",
    "    with header renamed. Note the last two columns are\n",
    "    only placeholder for pdb file format.\n",
    "    \"\"\"\n",
    "    df = pd.read_csv(filename, skiprows = 2, sep = \"\\s+\", header = None) #\"\\s+\" for undefined number of spaces\n",
    "    df.columns = [\"Type\", \"Index\", \"Particle\", \"Molecule\", \"Molecule Index\", \"X\", \"Y\", \"Z\", \"Occupancy\", \"Atom\"]\n",
    "    return df"
   ]
  },
  {
   "cell_type": "code",
   "execution_count": 16,
   "id": "e1d422d1",
   "metadata": {},
   "outputs": [],
   "source": [
    "def get_COM_coord(df, drop = False):\n",
    "    \"\"\"\n",
    "    Extract coordinate data (XYZ) of COM from the input\n",
    "    dataframe based on \"Particle\" property. Drop all\n",
    "    other properties when set to drop = True.\n",
    "    \"\"\"\n",
    "    df_COM = df.loc[df['Particle'] == \"COM\"].reset_index(drop = True)\n",
    "    if drop:\n",
    "        df_COM = df_COM.drop(columns =\\\n",
    "                             [\"Type\", \"Particle\", \"Index\", \"Molecule\", \"Molecule Index\", \"Occupancy\", \"Atom\"])\n",
    "    return df_COM"
   ]
  },
  {
   "cell_type": "code",
   "execution_count": 33,
   "id": "b0d49db1",
   "metadata": {},
   "outputs": [
    {
     "name": "stdout",
     "output_type": "stream",
     "text": [
      "Read 2500gags.pdb\n",
      "Write to 2500gags.csv\n",
      "Skip convert_pdb_to_xyz_CoM.ipynb\n",
      "Read 3125gags.pdb\n",
      "Write to 3125gags.csv\n",
      "Read 1250gags.pdb\n",
      "Write to 1250gags.csv\n",
      "Read 1875gags.pdb\n",
      "Write to 1875gags.csv\n",
      "Skip .ipynb_checkpoints\n",
      "Read 625gags.pdb\n",
      "Write to 625gags.csv\n"
     ]
    }
   ],
   "source": [
    "def convert_all_to_csv(directoryString = \"./\"):\n",
    "    \"\"\"\n",
    "    Iterate over directory where this file is in, select\n",
    "    the files that end with .pdb, and convert them to\n",
    "    .csv with only COM coord\n",
    "    \"\"\"\n",
    "    directory = os.fsencode(directoryString)\n",
    "    for file in os.listdir(directory):\n",
    "        #iteratre over directory\n",
    "        filename = os.fsdecode(file)\n",
    "        if filename.endswith(\".pdb\"):\n",
    "\n",
    "            #read files that end with .pdb\n",
    "            print(f\"Read {filename}\") \n",
    "            df = read_pdb(\"625gags.pdb\")\n",
    "            df = get_COM_coord(df, drop = True)\n",
    "\n",
    "            #convert filename to \"x.csv\"\n",
    "            filenameCsv = filename[:-3] + \"csv\"\n",
    "\n",
    "            #write to .csv\n",
    "            print(f\"Write to {filenameCsv}\")\n",
    "            df.to_csv(filenameCsv, header = False, index = False)\n",
    "\n",
    "        else:\n",
    "            #skip file\n",
    "            print(f\"Skip {filename}\")\n",
    "    \n",
    "    return True"
   ]
  },
  {
   "cell_type": "code",
   "execution_count": null,
   "id": "6bc229cf",
   "metadata": {},
   "outputs": [],
   "source": []
  }
 ],
 "metadata": {
  "kernelspec": {
   "display_name": "Python 3 (ipykernel)",
   "language": "python",
   "name": "python3"
  },
  "language_info": {
   "codemirror_mode": {
    "name": "ipython",
    "version": 3
   },
   "file_extension": ".py",
   "mimetype": "text/x-python",
   "name": "python",
   "nbconvert_exporter": "python",
   "pygments_lexer": "ipython3",
   "version": "3.9.7"
  }
 },
 "nbformat": 4,
 "nbformat_minor": 5
}
